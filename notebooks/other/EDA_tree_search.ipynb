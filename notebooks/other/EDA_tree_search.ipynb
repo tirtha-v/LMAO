{
 "cells": [
  {
   "cell_type": "code",
   "execution_count": 22,
   "metadata": {},
   "outputs": [],
   "source": [
    "import json\n",
    "import safe\n",
    "import os"
   ]
  },
  {
   "cell_type": "code",
   "execution_count": 2,
   "metadata": {},
   "outputs": [],
   "source": [
    "with open('../data/ChatDrug/beam_search_fast_task_101_k_5_d1_desc_simple_th_index_1_seed_77_sample_bricks_perc_100/results.json', 'r') as f:\n",
    "    data = json.load(f)"
   ]
  },
  {
   "cell_type": "code",
   "execution_count": 17,
   "metadata": {},
   "outputs": [],
   "source": [
    "path = '../data/ChatDrug/'"
   ]
  },
  {
   "cell_type": "code",
   "execution_count": 18,
   "metadata": {},
   "outputs": [],
   "source": [
    "reduced_data = []\n",
    "\n",
    "\n",
    "for folder in os.listdir(path):\n",
    "    full_path = path + folder + '/results.json'\n",
    "    counter = 0\n",
    "\n",
    "    with open(full_path, 'r') as f:\n",
    "        data = json.load(f)\n",
    "\n",
    "    for example in data:\n",
    "        try:\n",
    "            reduced_data.append({\n",
    "                'task': example[0]['task_id'],\n",
    "                'input': safe.decode(example[0]['root_smile_safe']),\n",
    "                'output': [safe.decode(x) for x in example[0]['top_k_safe_smiles']],\n",
    "            })\n",
    "            counter+=1\n",
    "            if counter > 1000:\n",
    "                break\n",
    "        except:\n",
    "            continue"
   ]
  },
  {
   "cell_type": "code",
   "execution_count": 21,
   "metadata": {},
   "outputs": [],
   "source": [
    "with open('chatdrug_examples_for_finetune.json', 'w') as f:\n",
    "    json.dump(reduced_data, f)"
   ]
  },
  {
   "cell_type": "code",
   "execution_count": 24,
   "metadata": {},
   "outputs": [],
   "source": [
    "with open('../data/ChatDrug/chatdrug_examples_for_finetune.json', 'r') as f:\n",
    "    data = json.load(f)"
   ]
  },
  {
   "cell_type": "code",
   "execution_count": 26,
   "metadata": {},
   "outputs": [
    {
     "data": {
      "text/plain": [
       "{'task': 101,\n",
       " 'input': 'C(=O)(C1=C(CSc2ccc3ccccc3c2)NC(=O)N[C@@H]1c1ccco1)OCC',\n",
       " 'output': ['[C@H]1(OCC)NN[C@H](Sc2ccc3ccccc3c2)N1c1ccco1',\n",
       "  'N1(OCC)CCC[NH+](Sc2ccc3ccccc3c2)[C@H]1c1ccco1',\n",
       "  'O=C1CN(OCC)C[C@@H](Sc2ccc3ccccc3c2)CN1c1ccco1',\n",
       "  'O=C1CN(OCC)C[C@H](Sc2ccc3ccccc3c2)CN1c1ccco1',\n",
       "  'N1(OCC)C(=O)NC(c2ccco2)(Sc2ccc3ccccc3c2)C1=O']}"
      ]
     },
     "execution_count": 26,
     "metadata": {},
     "output_type": "execute_result"
    }
   ],
   "source": [
    "data[0]"
   ]
  },
  {
   "cell_type": "code",
   "execution_count": null,
   "metadata": {},
   "outputs": [],
   "source": []
  },
  {
   "cell_type": "code",
   "execution_count": null,
   "metadata": {},
   "outputs": [],
   "source": []
  },
  {
   "cell_type": "code",
   "execution_count": null,
   "metadata": {},
   "outputs": [],
   "source": []
  }
 ],
 "metadata": {
  "kernelspec": {
   "display_name": "Python 3",
   "language": "python",
   "name": "python3"
  },
  "language_info": {
   "codemirror_mode": {
    "name": "ipython",
    "version": 3
   },
   "file_extension": ".py",
   "mimetype": "text/x-python",
   "name": "python",
   "nbconvert_exporter": "python",
   "pygments_lexer": "ipython3",
   "version": "3.10.5"
  }
 },
 "nbformat": 4,
 "nbformat_minor": 2
}
